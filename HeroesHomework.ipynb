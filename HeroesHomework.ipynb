#Import dependencies
import pandas as pd
import numpy as np

#Path to csv file
purchase_file = "Resources/purchase_data.csv"

#Read file into pandas and make a copy called 'data' so it can be
#called back at any time using data.copy and create dataframe
purchase_file_pd = pd.read_csv(purchase_file)
purchase_file_pd.head()

#Get a list of all columns for easy reference
purchase_file_pd.columns

#Create a list of the columns
purchase_file_pd = purchase_file_pd.loc[:,["Purchase ID", "SN", "Age", "Gender", "Item ID", "Item Name", "Price"]]

#PLAYER COUNT
#Calculate the total number of players
total_players = purchase_file_pd["SN"].nunique()

total_players=pd.DataFrame({"Total Players":[total_players]})
total_players

#PURCHASING ANALYSIS
#Number of unique items
num_unique_items = purchase_file_pd['Item ID'].nunique()
num_unique_items

#Calculate average price
avg_price = purchase_file_pd["Price"].mean()
avg_price

#Number of purchases
num_purchases = purchase_file_pd["Purchase ID"].count()
num_purchases

#Total Revenue
Tot_Rev = purchase_file_pd["Price"].sum()
Tot_Rev

#Purchasing Analysis(Total) summary data frame
Purch_Analysis_Total = pd.DataFrame({"Number of Unique Items": [num_unique_items],"Average Price": [avg_price], "Number of Purchases":[num_purchases], "Total Revenue":Tot_Rev})
Purch_Analysis_Total

#Groupby 'Gender' AND 'SN' to get the number of male, female, and non-disclosed genders
#gender_count = purchase_file_pd.groupby("Gender")["SN"].nunique()
#gender_count
player_gender = purchase_file_pd.groupby("Gender")["SN"].nunique()
player_gender

#getting total line count
total_num = purchase_file_pd.count()
total_num

#Percentage of male, female, and non-disclosed players
#Referenced Hannah's code for this cell

#to drop duplicates by the screen name#
purchase_file_pd = purchase_file_pd.drop_duplicates('SN')
#to make total players an integer and not a list#
total_players = purchase_file_pd.count()[0]
#Then you can use a value_counts() to get the listed genders#
gender_count = purchase_file_pd["Gender"].value_counts()
#finally, you can calculate the percents#
gender_count_percents = gender_count/total_players * 100 
gender_count_percents

#Gender Demographics Analysis summary data frame
gender_demo_analysis = pd.DataFrame({"Gender Count":gender_count, "Percentage of Players":gender_count_percents})
gender_demo_analysis

#looking at datatypes of the columns
purchase_file_pd.dtypes

#PURCHASING ANALYSIS (GENDER)
#########purchase count by gender############
gender_purchase_count = purchase_file_pd.groupby("Gender")["Purchase ID"].count()
gender_purchase_count

#My output totals 576, which is the total amount of players but the homework shows a total of 780. 
#I think this is because we dropped duplicates (in Hannah's code), which brought the number of rows
#in this dataset from 780 to 576. 

#average purchase price by gender
avg_gender_purch_price = purchase_file_pd.groupby("Gender")["Price"].mean()
avg_gender_purch_price.round(2)

#total purchase value 
tot_purch_pp = purchase_file_pd.groupby("Gender")["Price"].sum()
tot_purch_pp

########average total purchase per person########
avg_tot_purch_pp = tot_purch_pp/ gender_count
avg_tot_purch_pp.round(2)
#####NEED TO FIX#####

########Purchasing Analysis (Gender) summary data frame
purch_analysis = pd.DataFrame({"Purchase Count":gender_purchase_count, 
                               "Average Purchase Price":avg_gender_purch_price, 
                               "Total Purchase Value":tot_purch_pp, 
                               "Avg Total Purchase per Person": avg_tot_purch_pp})
purch_analysis

###Avg Purchase price and Avg Total Purchase Per Person is the same###


#AGE DEMOGRAPHICS
#establish bins for the given age ranges
bins = [0, 10, 15, 20, 25, 30, 35, 40, 200]
age_ranges =["<10", "10-14", "15-19", "20-24", "25-29", "30-34", "35-39", "40+"]

#Categorize existing players into the age bins using pd.cut() 
#purchase_file_pd["Player Age Summary"] =
purchase_file_pd ["Age Range"] = pd.cut(purchase_file_pd["Age"], bins, labels = age_ranges, include_lowest=True)
purchase_file_pd

#percent by age
age_percentage= purchase_file_pd["Age Range"].value_counts()/ (total_players) * 100
age_percentage

###########Age Demographics Analysis summary table##########
age_demo_analysis = pd.DataFrame({("Total Count"):gender_count,("Percentage of Players"): age_percentage})
age_demo_analysis


#PURCHASING ANALYSIS (AGE)
#Bin the purchase_data data frame by age (I copy and pasted the previous line from where we created bins for Age Demographics)
purchase_file_pd ["Age Range"] = pd.cut(purchase_file_pd["Age"], bins, labels = age_ranges, include_lowest=True)
purchase_file_pd

#purchase count by age
age_purchase_count = purchase_file_pd.groupby("Age Range")["Item Name"]
age_purchase_count.count()

#avg purchase price by age
avg_purch_price_age = purchase_file_pd.groupby("Age Range")["Price"].mean()
avg_purch_price_age.round(2)

#avg purchase price by age
avg_purch_price_age = purchase_file_pd.groupby("Age Range")["Price"].mean()
avg_purch_price_age.round(2)

#############average total purchase per person by age                                                                            
#avg purchase price by age
avg_purch_price_age = purchase_file_pd.groupby("Age Range")["Price"].mean()
avg_purch_price_age.round(2)

#Age Demographics Summary Data Frame
age_analysis = pd.DataFrame({"Purchase Count":age_purchase_count,
                                "Average Purchase Price":avg_purch_price_age,
                                "Total Purchase Value":tot_purch_value,
                                "Avg Total Purchase per Person":avg_tot_purch_pp_age})
age_analysis

########################TOP SPENDERS
players_purchase_count_df = purchase_file_pd.groupby("SN").count()["Price"]
players_purchase_count_df

#Purchase Count (ts=Top Spenders)
#ts_purch_count = purchase_file_pd.groupby("SN")

#Total Purchases
#ts_total_purchases=ts_purch_count["Purchase ID"].count()
#ts_total_purchases

#################Average Purchase Price
players_average_price_df = purchase_file_pd.groupby("SN").mean()["Price"]
players_average_price_df

#ts_avg_purch_price = purchase_file_pd.["Price"].mean()
#ts_avg_purch_price.mean()

#################Total Purchase Value
players_total_df = purchase_file_pd.groupby("SN").sum()["Price"]
players_total_df
#ts_tot_purch_value = purchase_file_pd.groupby("SN")["Price"].sum()
#ts_tot_purch_value

#MOST POPULAR ITEMS

#Retrieve the Item ID, Item Name, and Item Price columns